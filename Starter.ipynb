{
  "nbformat": 4,
  "nbformat_minor": 0,
  "metadata": {
    "colab": {
      "name": "Starter.ipynb",
      "provenance": [],
      "authorship_tag": "ABX9TyM241JBWvV3WpN3nB2fFxGS"
    },
    "kernelspec": {
      "name": "python3",
      "display_name": "Python 3"
    },
    "language_info": {
      "name": "python"
    }
  },
  "cells": [
    {
      "cell_type": "markdown",
      "metadata": {
        "id": "0ZY0n4ECy9hU"
      },
      "source": [
        "# **CIS 522 project - Starter code**"
      ]
    },
    {
      "cell_type": "markdown",
      "metadata": {
        "id": "feCdDK_cyiUS"
      },
      "source": [
        "Download the original dataset, with images resized to 512x512 size. This will download a zip file that we can then load and use"
      ]
    },
    {
      "cell_type": "code",
      "metadata": {
        "id": "JhBxpV65YVGJ",
        "colab": {
          "base_uri": "https://localhost:8080/"
        },
        "outputId": "90632f64-b332-45e3-aa03-1248c48dcfc2"
      },
      "source": [
        "!gdown --id 1AR5Papk2Ol14e8Qz8kCnBEQNXrtJG-CX"
      ],
      "execution_count": 2,
      "outputs": [
        {
          "output_type": "stream",
          "text": [
            "Downloading...\n",
            "From: https://drive.google.com/uc?id=1AR5Papk2Ol14e8Qz8kCnBEQNXrtJG-CX\n",
            "To: /content/with_mask_resized.zip\n",
            "3.28GB [00:34, 94.4MB/s]\n"
          ],
          "name": "stdout"
        }
      ]
    },
    {
      "cell_type": "code",
      "metadata": {
        "id": "fFIMweJJyNas"
      },
      "source": [
        ""
      ],
      "execution_count": null,
      "outputs": []
    }
  ]
}