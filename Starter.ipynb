{
  "nbformat": 4,
  "nbformat_minor": 0,
  "metadata": {
    "colab": {
      "name": "Starter.ipynb",
      "provenance": [],
      "authorship_tag": "ABX9TyM6GfhNzhADOEOYkkSL7BN8",
      "include_colab_link": true
    },
    "kernelspec": {
      "name": "python3",
      "display_name": "Python 3"
    },
    "language_info": {
      "name": "python"
    }
  },
  "cells": [
    {
      "cell_type": "markdown",
      "metadata": {
        "id": "view-in-github",
        "colab_type": "text"
      },
      "source": [
        "<a href=\"https://colab.research.google.com/github/mytreyi85/cis522project/blob/main/Starter.ipynb\" target=\"_parent\"><img src=\"https://colab.research.google.com/assets/colab-badge.svg\" alt=\"Open In Colab\"/></a>"
      ]
    },
    {
      "cell_type": "markdown",
      "metadata": {
        "id": "0ZY0n4ECy9hU"
      },
      "source": [
        "# **CIS 522 project - Starter code**"
      ]
    },
    {
      "cell_type": "markdown",
      "metadata": {
        "id": "feCdDK_cyiUS"
      },
      "source": [
        "Download the original dataset, with images resized to 512x512 size. This will download a zip file that we can then load and use in the files tab."
      ]
    },
    {
      "cell_type": "code",
      "metadata": {
        "id": "JhBxpV65YVGJ",
        "colab": {
          "base_uri": "https://localhost:8080/"
        },
        "outputId": "90632f64-b332-45e3-aa03-1248c48dcfc2"
      },
      "source": [
        "!gdown --id 1AR5Papk2Ol14e8Qz8kCnBEQNXrtJG-CX"
      ],
      "execution_count": 2,
      "outputs": [
        {
          "output_type": "stream",
          "text": [
            "Downloading...\n",
            "From: https://drive.google.com/uc?id=1AR5Papk2Ol14e8Qz8kCnBEQNXrtJG-CX\n",
            "To: /content/with_mask_resized.zip\n",
            "3.28GB [00:34, 94.4MB/s]\n"
          ],
          "name": "stdout"
        }
      ]
    },
    {
      "cell_type": "code",
      "metadata": {
        "colab": {
          "base_uri": "https://localhost:8080/"
        },
        "id": "fFIMweJJyNas",
        "outputId": "ed9c395e-b9f6-4ca5-a464-3f937df58e45"
      },
      "source": [
        "!gdown --id 1ZFT0aPSNI2bhE4LQQwihIXWYxwJnpJj6"
      ],
      "execution_count": 3,
      "outputs": [
        {
          "output_type": "stream",
          "text": [
            "Downloading...\n",
            "From: https://drive.google.com/uc?id=1ZFT0aPSNI2bhE4LQQwihIXWYxwJnpJj6\n",
            "To: /content/without_mask_resized.zip\n",
            "3.50GB [00:38, 91.4MB/s]\n"
          ],
          "name": "stdout"
        }
      ]
    },
    {
      "cell_type": "code",
      "metadata": {
        "id": "QkCL1FE64MEC"
      },
      "source": [
        ""
      ],
      "execution_count": null,
      "outputs": []
    }
  ]
}